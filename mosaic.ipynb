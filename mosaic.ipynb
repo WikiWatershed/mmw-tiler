{
 "cells": [
  {
   "cell_type": "code",
   "execution_count": 1,
   "metadata": {},
   "outputs": [],
   "source": [
    "# Uncomment this line if you need to install the dependencies\n",
    "#!pip install requests pystac-client cogeo-mosaic==7.1.0 aiofiles httpx"
   ]
  },
  {
   "cell_type": "code",
   "execution_count": 1,
   "metadata": {},
   "outputs": [],
   "source": [
    "from pystac_client import Client\n",
    "import requests\n",
    "import json\n",
    "from cogeo_mosaic.mosaic import MosaicJSON"
   ]
  },
  {
   "cell_type": "code",
   "execution_count": 2,
   "metadata": {},
   "outputs": [],
   "source": [
    "stac_api_url = \"https://api.impactobservatory.com/stac-aws\"\n",
    "collection_name = \"io-10m-annual-lulc\"\n",
    "\n",
    "titiler_url = \"https://tiler.staging.modelmywatershed.org\""
   ]
  },
  {
   "cell_type": "code",
   "execution_count": 3,
   "metadata": {},
   "outputs": [
    {
     "name": "stderr",
     "output_type": "stream",
     "text": [
      "/home/khoekema/proj/mmw/mmw-tiler/.venv/lib/python3.11/site-packages/cogeo_mosaic/mosaic.py:283: UserWarning: Multiple MinZoom, Assets different minzoom values\n",
      "  warnings.warn(\n",
      "/home/khoekema/proj/mmw/mmw-tiler/.venv/lib/python3.11/site-packages/cogeo_mosaic/mosaic.py:292: UserWarning: Multiple MaxZoom, Assets have multiple resolution values\n",
      "  warnings.warn(\n"
     ]
    },
    {
     "name": "stdout",
     "output_type": "stream",
     "text": [
      "2019: https://tiler.staging.modelmywatershed.org/mosaicjson/mosaics/8859f124-5b41-43e6-8604-9cc17e8471ea/tiles/{z}/{x}/{y}\n",
      "{\n",
      "  \"2019\": \"https://tiler.staging.modelmywatershed.org/mosaicjson/mosaics/8859f124-5b41-43e6-8604-9cc17e8471ea/tiles/{z}/{x}/{y}\"\n",
      "}\n"
     ]
    }
   ],
   "source": [
    "mosaics = {}\n",
    "\n",
    "# For each year\n",
    "# 1. search for the STAC Items for that year\n",
    "# 2. get the S3 URI for the asset\n",
    "# 3. compute a mosaicjson for it\n",
    "# 4. create that mosaicjson in titiler-mosaicjson\n",
    "\n",
    "for year in [\"2019\",]:\n",
    "  search = Client.open(stac_api_url).search(\n",
    "    limit=1000,\n",
    "    collections=[collection_name],\n",
    "    datetime=[f\"{year}-06-01T00:00:00Z\", f\"{year}-06-02T00:00:00Z\"]\n",
    "  )\n",
    "  \n",
    "  asset_hrefs = list(item[\"assets\"][\"supercell\"][\"href\"] for item in search.items_as_dicts())\n",
    "  mosaic_definition = MosaicJSON.from_urls(asset_hrefs)\n",
    "  mosaic_definition.name = f\"{year} Impact Observatory 10m Annual Land Use Land Cover (9-class)\"\n",
    "  # print(json.dumps(mosaic_definition.model_dump(), indent=2))\n",
    "\n",
    "  r = requests.post(\n",
    "    url=f\"{titiler_url}/mosaicjson/mosaics\",\n",
    "    headers={\n",
    "      \"Content-Type\": \"application/vnd.titiler.mosaicjson+json\",\n",
    "    },\n",
    "    json=mosaic_definition.model_dump()\n",
    "  )\n",
    "\n",
    "  response_body = r.json()\n",
    "\n",
    "  tiles_link_href = next((link[\"href\"] for link in response_body[\"links\"] if link[\"rel\"] == \"tiles\"), None)\n",
    "\n",
    "  mosaics[year] = tiles_link_href\n",
    "\n",
    "  print(f\"{year}: {tiles_link_href}\")\n",
    "\n",
    "print(json.dumps(mosaics, indent=2))\n"
   ]
  },
  {
   "cell_type": "code",
   "execution_count": 4,
   "metadata": {},
   "outputs": [
    {
     "name": "stdout",
     "output_type": "stream",
     "text": [
      "Tile Layer URL for Leaflet: https://tiler.staging.modelmywatershed.org/mosaicjson/mosaics/fec54b55-5e75-4c6d-ac47-41579d722dab/tiles/{z}/{x}/{y}@2x.png?colormap=%7B%220%22%3A%20%22%23000000%22%2C%20%221%22%3A%20%22%23419bdf%22%2C%20%222%22%3A%20%22%23397d49%22%2C%20%223%22%3A%20%22%23000000%22%2C%20%224%22%3A%20%22%237a87c6%22%2C%20%225%22%3A%20%22%23e49635%22%2C%20%226%22%3A%20%22%23000000%22%2C%20%227%22%3A%20%22%23c4281b%22%2C%20%228%22%3A%20%22%23a59b8f%22%2C%20%229%22%3A%20%22%23a8ebff%22%2C%20%2210%22%3A%20%22%23616161%22%2C%20%2211%22%3A%20%22%23e3e2c3%22%7D\n"
     ]
    }
   ],
   "source": [
    "COLORMAP = \"%7B%220%22%3A%20%22%23000000%22%2C%20%221%22%3A%20%22%23419bdf%22%2C%20%222%22%3A%20%22%23397d49%22%2C%20%223%22%3A%20%22%23000000%22%2C%20%224%22%3A%20%22%237a87c6%22%2C%20%225%22%3A%20%22%23e49635%22%2C%20%226%22%3A%20%22%23000000%22%2C%20%227%22%3A%20%22%23c4281b%22%2C%20%228%22%3A%20%22%23a59b8f%22%2C%20%229%22%3A%20%22%23a8ebff%22%2C%20%2210%22%3A%20%22%23616161%22%2C%20%2211%22%3A%20%22%23e3e2c3%22%7D\"\n",
    "pre_generated_mosaics = {\n",
    "  \"2017\": \"https://tiler.staging.modelmywatershed.org/mosaicjson/mosaics/6900be40-a0d8-407f-a5d5-cc431310686c/tiles/{z}/{x}/{y}\",\n",
    "  \"2018\": \"https://tiler.staging.modelmywatershed.org/mosaicjson/mosaics/4a0dc777-6fcf-4a46-8e2e-fd0b97d712d8/tiles/{z}/{x}/{y}\",\n",
    "  \"2019\": \"https://tiler.staging.modelmywatershed.org/mosaicjson/mosaics/570f1af6-049d-45bb-a31e-0b1a88524283/tiles/{z}/{x}/{y}\",\n",
    "  \"2020\": \"https://tiler.staging.modelmywatershed.org/mosaicjson/mosaics/47e3dc4d-1849-4830-a1c2-3c9a3186644d/tiles/{z}/{x}/{y}\",\n",
    "  \"2021\": \"https://tiler.staging.modelmywatershed.org/mosaicjson/mosaics/8f8316e7-6100-4c8b-bd4d-91dcd104ff09/tiles/{z}/{x}/{y}\",\n",
    "  \"2022\": \"https://tiler.staging.modelmywatershed.org/mosaicjson/mosaics/d36543c2-6b4f-47a8-9b13-0341ce222a31/tiles/{z}/{x}/{y}\",\n",
    "  \"2023\": \"https://tiler.staging.modelmywatershed.org/mosaicjson/mosaics/fec54b55-5e75-4c6d-ac47-41579d722dab/tiles/{z}/{x}/{y}\"\n",
    "}\n",
    "\n",
    "tile_url_template = pre_generated_mosaics[\"2023\"]\n",
    "\n",
    "tile_layer_url = f\"{tile_url_template}@2x.png?colormap={COLORMAP}\"\n",
    "\n",
    "print(f\"Tile Layer URL for Leaflet: {tile_layer_url}\")"
   ]
  },
  {
   "cell_type": "markdown",
   "metadata": {},
   "source": [
    "For a given zoom level, download all of the tiles into a local directory\n",
    "The local layout is like `tiles/{mosaic_id}/tiles/{z}/{x}/{y}/{param_hash}`\n",
    "e.g., `tiles/6900be40-a0d8-407f-a5d5-cc431310686c/tiles/4/0/0/f6914f4a30a75d202ad1ae24ea6c89961a995f0bfd65838dd5896e106fea1ec5`\n",
    "the hash is used because there are two parameters (one path and one query param) that determine what the resulting tile\n",
    "will will look like. The local path structure mimics the URL structure used for the tile of\n",
    "`/mosaicjson/{mosaic_id}/tiles/{z}/{x}/{y}`\n",
    " added to these are parameters `{scale}{format}?colormap={colormap}`\n",
    "\n",
    "- `scale` is one of empty string, `@1x` or `@2x`.\n",
    "- `format` is always `.png` so no data will show as transparent\n",
    "- `colormap` is a JSON object describing the data's digital value to color mapping\n",
    "\n",
    "Before running this, the tiler Lambda needs to be manually edited to change two settings:\n",
    "\n",
    "1. Enable the Lambda Function URL. The value for this should be populated into `tiler_lambda_function_url` below.\n",
    "2. Edit the timeout setting to set it to 900 seconds (the max value)."
   ]
  },
  {
   "cell_type": "code",
   "execution_count": 3,
   "metadata": {},
   "outputs": [
    {
     "name": "stdout",
     "output_type": "stream",
     "text": [
      "Downloading tiles for zoomlevel 4\n",
      "Downloading tiles for zoomlevel 5\n"
     ]
    },
    {
     "name": "stderr",
     "output_type": "stream",
     "text": [
      "/tmp/ipykernel_399284/2729837915.py:18: RuntimeWarning: coroutine 'download_tiles' was never awaited\n",
      "  async with sem:\n",
      "RuntimeWarning: Enable tracemalloc to get the object allocation traceback\n"
     ]
    },
    {
     "name": "stdout",
     "output_type": "stream",
     "text": [
      "Processed 1280 tiles. Failures: []\n"
     ]
    }
   ],
   "source": [
    "import asyncio\n",
    "import httpx\n",
    "import aiofiles\n",
    "import aiofiles.os\n",
    "import hashlib\n",
    "import os\n",
    "from pathlib import Path\n",
    "\n",
    "# A decorator to prevent async tasks from all trying to run at once.\n",
    "# From here: https://stackoverflow.com/a/66289885\n",
    "from functools import wraps\n",
    "def request_concurrency_limit_decorator(limit=3):\n",
    "    # Bind the default event loop \n",
    "    sem = asyncio.Semaphore(limit)\n",
    "    def executor(func):\n",
    "        @wraps(func)\n",
    "        async def wrapper(*args, **kwargs):\n",
    "            async with sem:\n",
    "                return await func(*args, **kwargs)\n",
    "        return wrapper\n",
    "    return executor\n",
    "\n",
    "\n",
    "COLORMAP = \"%7B%220%22%3A%20%22%23000000%22%2C%20%221%22%3A%20%22%23419bdf%22%2C%20%222%22%3A%20%22%23397d49%22%2C%20%223%22%3A%20%22%23000000%22%2C%20%224%22%3A%20%22%237a87c6%22%2C%20%225%22%3A%20%22%23e49635%22%2C%20%226%22%3A%20%22%23000000%22%2C%20%227%22%3A%20%22%23c4281b%22%2C%20%228%22%3A%20%22%23a59b8f%22%2C%20%229%22%3A%20%22%23a8ebff%22%2C%20%2210%22%3A%20%22%23616161%22%2C%20%2211%22%3A%20%22%23e3e2c3%22%7D\"\n",
    "\n",
    "# the 2023 one\n",
    "tile_url_template = \"https://tiler.staging.modelmywatershed.org/mosaicjson/mosaics/fec54b55-5e75-4c6d-ac47-41579d722dab/tiles/{z}/{x}/{y}\"\n",
    "\n",
    "tiler_url = \"https://tiler.staging.modelmywatershed.org\"\n",
    "tiler_lambda_function_url = \"https://2empcsyg6p3r53jhbp6v2ovsia0awpdn.lambda-url.us-west-2.on.aws\"\n",
    "\n",
    "lambda_tile_url_template = tile_url_template.replace(tiler_url,tiler_lambda_function_url)\n",
    "zoom_levels = [4,5]\n",
    "scales = [\"@2x\",]  # Could also do \"\" and \"@1x\" (which both produce 1x tiles, but with different hashes)\n",
    "output_dir = \"tiles\"\n",
    "\n",
    "@request_concurrency_limit_decorator(limit=20)\n",
    "async def download_tile(tile_url_template: str, z: int, x: int, y: int):\n",
    "    base_tile_url = tile_url_template.replace(\"{z}\", str(z)).replace(\"{x}\", str(x)).replace(\"{y}\", str(y))\n",
    "    mosaic_path = base_tile_url.split(\"/mosaicjson/mosaics/\", maxsplit=1)[1]\n",
    "    for scale in scales:\n",
    "        params = f\"{scale}.png?colormap={COLORMAP}\"\n",
    "        tile_url = f\"{base_tile_url}{params}\"\n",
    "        mosaic_hash = hashlib.sha256(params.encode()).hexdigest()\n",
    "        local_path = f\"{output_dir}/{mosaic_path}/{mosaic_hash}\"\n",
    "        if not Path(local_path).exists():\n",
    "            async with httpx.AsyncClient() as client:\n",
    "                # print(f\"requesting tile {tile_url}\")\n",
    "                r = await client.get(tile_url, timeout=httpx.Timeout(5.0, read=900))\n",
    "                match r.status_code:\n",
    "                    case httpx.codes.OK:\n",
    "                        await aiofiles.os.makedirs(f\"{output_dir}/{mosaic_path}\", exist_ok=True)\n",
    "                        async with aiofiles.open(local_path, \"wb\") as f:\n",
    "                            await f.write(r.content)\n",
    "                    case httpx.codes.NOT_FOUND:\n",
    "                        await aiofiles.os.makedirs(f\"{output_dir}/{mosaic_path}\", exist_ok=True)\n",
    "                        await aiofiles.open(local_path, \"w+\")\n",
    "                    case _:\n",
    "                        return f\"Error: {tile_url} => {r.status_code}: {r.text}\"\n",
    "\n",
    "@request_concurrency_limit_decorator(limit=1)\n",
    "async def download_tiles_for_zoomlevel(zoom_level):\n",
    "    print(f\"Downloading tiles for zoomlevel {zoom_level}\")\n",
    "    zxy_tuples = [(zoom_level, x, y) for x in range(0, 2**zoom_level) for y in range(0, 2**zoom_level)]\n",
    "    return await asyncio.gather(*(download_tile(lambda_tile_url_template, *args) for args in zxy_tuples))\n",
    "\n",
    "async def download_tiles():\n",
    "    return await asyncio.gather(*(download_tiles_for_zoomlevel(z) for z in zoom_levels))\n",
    "\n",
    "os.makedirs(output_dir, exist_ok=True)\n",
    "results = await asyncio.get_event_loop().create_task(download_tiles())\n",
    "flat_results = [r for lvl in results for r in lvl]\n",
    "print(f\"Processed {len(flat_results)} tiles. Failures: {[r for r in flat_results if r]}\")\n"
   ]
  }
 ],
 "metadata": {
  "kernelspec": {
   "display_name": ".venv",
   "language": "python",
   "name": "python3"
  },
  "language_info": {
   "codemirror_mode": {
    "name": "ipython",
    "version": 3
   },
   "file_extension": ".py",
   "mimetype": "text/x-python",
   "name": "python",
   "nbconvert_exporter": "python",
   "pygments_lexer": "ipython3",
   "version": "3.11.8"
  }
 },
 "nbformat": 4,
 "nbformat_minor": 2
}
